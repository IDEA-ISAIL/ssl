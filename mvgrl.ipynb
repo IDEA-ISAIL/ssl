{
 "cells": [
  {
   "cell_type": "markdown",
   "metadata": {
    "collapsed": false
   },
   "source": [
    "# InfoGraph Tutorial\n",
    "#### This tutorial illustrates the use of MVGRL algorithm [Contrastive Multi-View Representation Learning on Graphs](https://proceedings.mlr.press/v119/hassani20a/hassani20a.pdf), an self-supervised node and graph-level representation learning method,  which maximizes the mutual information between the original graph and its diffused counterpart.\n",
    "#### The tutorial is organized as folows:\n",
    "#### 1. [Preprocessing Data and Loading Configuration](mvgrl.ipynb#L48)\n",
    "#### 2. [Training the model](mvgrl.ipynb#L100)\n",
    "#### 3. [Evaluating the model](mvgrl.ipynb#L206)"
   ]
  },
  {
   "cell_type": "markdown",
   "metadata": {
    "collapsed": false,
    "pycharm": {
     "name": "#%% md\n"
    }
   },
   "source": [
    "## 1. Preprocessing Data and Loading Configuration \n",
    "#### First, we load the configuration from yml file and the dataset. Then data augmentation (ppr for Persaonlized Page Rank or heat diffusion kernel) is performed on the loaded dataset.\n",
    "#### For easy usage, we conduct experiments to search for the best parameter across three datasets and find the proper value of parameters such that the performance of implemented MVGRL is similar to the value reported in the paper."
   ]
  },
  {
   "cell_type": "code",
   "execution_count": null,
   "metadata": {
    "ExecuteTime": {
     "end_time": "2023-10-21T19:54:09.272477400Z",
     "start_time": "2023-10-21T19:54:09.255915800Z"
    },
    "collapsed": false,
    "pycharm": {
     "is_executing": false,
     "name": "#%%\n"
    }
   },
   "outputs": [],
   "source": [
    "from src.augment import ComputePPR, ComputeHeat\n",
    "from src.methods import MVGRL, MVGRLEncoder\n",
    "from src.trainer import SimpleTrainer\n",
    "from torch_geometric.loader import DataLoader\n",
    "from src.transforms import NormalizeFeatures, GCNNorm, Edge2Adj, Compose\n",
    "from src.datasets import Planetoid, Entities, Amazon, WikiCS, Coauthor\n",
    "from src.evaluation import LogisticRegression\n",
    "import torch\n",
    "from src.config import load_yaml\n",
    "from src.utils.create_data import create_masks\n",
    "from src.utils.add_adj import add_adj_t\n",
    "\n",
    "# load the configuration file\n",
    "# config = load_yaml('./configuration/mvgrl_amazon.yml')\n",
    "# config = load_yaml('./configuration/mvgrl_coauthor.yml')\n",
    "# config = load_yaml('./configuration/mvgrl_wikics.yml')\n",
    "config = load_yaml('./configuration/mvgrl_cora.yml')\n",
    "torch.manual_seed(config.torch_seed)\n",
    "device = torch.device(\"cuda:{}\".format(config.gpu_idx) if torch.cuda.is_available() and config.use_cuda else \"cpu\")\n",
    "\n",
    "# data\n",
    "if config.dataset.name == 'cora':\n",
    "    pre_transforms = Compose([NormalizeFeatures(ord=1), Edge2Adj(norm=GCNNorm(add_self_loops=1))])\n",
    "    dataset = Planetoid(root='pyg_data', name='cora', pre_transform=pre_transforms)\n",
    "elif config.dataset.name == 'Amazon':\n",
    "    pre_transforms = NormalizeFeatures(ord=1)\n",
    "    dataset = Amazon(root='pyg_data', name='Photo', pre_transform=pre_transforms)\n",
    "elif config.dataset.name == 'WikiCS':\n",
    "    pre_transforms = NormalizeFeatures(ord=1)\n",
    "    dataset = WikiCS(root='pyg_data', pre_transform=pre_transforms)\n",
    "elif config.dataset.name == 'coauthor':\n",
    "    pre_transforms = NormalizeFeatures(ord=1)\n",
    "    dataset = Coauthor(root='pyg_data', name='CS', pre_transform=pre_transforms)\n",
    "else:\n",
    "    raise 'please specify the correct dataset root'\n",
    "if config.dataset.name in ['Amazon', 'WikiCS', 'coauthor']:\n",
    "    dataset.data = create_masks(dataset.data, config.dataset.name)\n",
    "dataset = add_adj_t(dataset)\n",
    "data_loader = DataLoader(dataset, batch_size=config.model.batch_size)\n",
    "\n",
    "# Augmentation\n",
    "aug_type = config.model.aug_type\n",
    "if aug_type == 'ppr':\n",
    "    augment_neg = ComputePPR(alpha = config.model.alpha)\n",
    "elif aug_type == 'heat':\n",
    "    augment_neg = ComputeHeat(t = config.model.t)\n",
    "else:\n",
    "    assert False"
   ]
  },
  {
   "cell_type": "markdown",
   "metadata": {
    "collapsed": false,
    "pycharm": {
     "name": "#%% md\n"
    }
   },
   "source": [
    "## 2. Training the Model\n",
    "#### In the second step, we first initialize the parameters of MVGRL. The base encoder is a single-layer GCN, followed by MLP.\n",
    "#### You may replace the encoder with the user-defined encoder. Please refer to the framework of the encoder in [mvgrl.py](https://github.com/IDEA-ISAIL/ssl/blob/MVGRL/src/methods/mvgrl.py#L157)."
   ]
  },
  {
   "cell_type": "code",
   "execution_count": null,
   "metadata": {
    "ExecuteTime": {
     "end_time": "2023-10-21T19:54:12.443915800Z",
     "start_time": "2023-10-21T19:54:12.438717600Z"
    },
    "collapsed": false,
    "pycharm": {
     "is_executing": false,
     "name": "#%%\n"
    }
   },
   "outputs": [],
   "source": [
    "# ------------------- Method -----------------\n",
    "encoder = MVGRLEncoder(in_channels=config.model.in_channels, hidden_channels=config.model.hidden_channels)\n",
    "method = MVGRL(encoder=encoder, diff=augment_neg, hidden_channels=config.model.hidden_channels)\n",
    "method.augment_type = aug_type"
   ]
  },
  {
   "cell_type": "markdown",
   "metadata": {
    "collapsed": false
   },
   "source": [
    "#### We train the model by calling the trainer.train() function."
   ]
  },
  {
   "cell_type": "code",
   "execution_count": null,
   "metadata": {
    "ExecuteTime": {
     "end_time": "2023-10-21T19:54:20.347461700Z",
     "start_time": "2023-10-21T19:54:15.059680200Z"
    },
    "collapsed": false,
    "pycharm": {
     "is_executing": false,
     "name": "#%%\n"
    }
   },
   "outputs": [],
   "source": [
    "# ------------------ Trainer --------------------\n",
    "trainer = SimpleTrainer(method=method, data_loader=data_loader, device=device, n_epochs=config.optim.max_epoch, patience=config.optim.patience)\n",
    "trainer.train()"
   ]
  },
  {
   "cell_type": "markdown",
   "metadata": {
    "collapsed": false
   },
   "source": [
    "## 3. Evaluating the performance of MVGRL\n",
    "#### In the last step, we evaluate the performance of MVGRL. We first get the embedding by calling method.get_embs() function and then use logistic regression to evaluate its performance. \n",
    "#### The more choice of classifiers can be found in [classifier.py](https://github.com/IDEA-ISAIL/ssl/edit/molecure/src/evaluation/classifier.py), including SVM, RandomForest, etc. \n",
    "#### Besides, other evaluation methods in an unsupervised setting could be found in [cluster.py](https://github.com/IDEA-ISAIL/ssl/edit/molecure/src/evaluation/cluster.py) or [sim_search.py](https://github.com/IDEA-ISAIL/ssl/edit/molecure/src/evaluation/sim_search.py), including K-means method or similarity search."
   ]
  },
  {
   "cell_type": "code",
   "execution_count": null,
   "metadata": {
    "ExecuteTime": {
     "end_time": "2023-10-21T19:54:24.807636100Z",
     "start_time": "2023-10-21T19:54:23.650700200Z"
    },
    "collapsed": false,
    "pycharm": {
     "is_executing": false,
     "name": "#%%\n"
    }
   },
   "outputs": [],
   "source": [
    "# ------------------ Evaluator -------------------\n",
    "data_pyg = dataset.data.to(method.device)\n",
    "data_neg = augment_neg(data_pyg).to(method.device)\n",
    "_, _, h_1, h_2, _, _ = method.get_embs(data_pyg.x, data_neg.x, data_pyg.adj_t, data_neg.adj_t, False)\n",
    "embs = (h_1 + h_2).detach()\n",
    "\n",
    "lg = LogisticRegression(lr=0.01, weight_decay=0, max_iter=100, n_run=50, device=device)\n",
    "lg(embs=embs, dataset=data_pyg)"
   ]
  }
 ],
 "metadata": {
  "kernelspec": {
   "display_name": "Python 3",
   "language": "python",
   "name": "python3"
  },
  "language_info": {
   "codemirror_mode": {
    "name": "ipython",
    "version": 3
   },
   "file_extension": ".py",
   "mimetype": "text/x-python",
   "name": "python",
   "nbconvert_exporter": "python",
   "pygments_lexer": "ipython3",
   "version": "3.7.2"
  },
  "pycharm": {
   "stem_cell": {
    "cell_type": "raw",
    "metadata": {
     "collapsed": false
    },
    "source": []
   }
  }
 },
 "nbformat": 4,
 "nbformat_minor": 2
}
