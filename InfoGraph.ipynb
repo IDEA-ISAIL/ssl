{
 "cells": [
  {
   "cell_type": "markdown",
   "source": [
    "# InfoGraph Tutorial\n",
    "#### This tutorial illustrates the use of InfoGraph algorithm [InfoGraph: Unsupervised and Semi-supervised Graph-Level Representation Learning via Mutual Information Maximization](https://openreview.net/pdf?id=r1lfF2NYvH), an unsupervised and semisupervised graph-level representation learning method,  which maximizes the mutual information between the graph-level representation and the representations of substructures of different scales.\n",
    "#### The tutorial is organized as folows:\n",
    "#### 1. [Preprocessing Data and Loading Configuration](InfoGraph.ipynb#L6)\n",
    "#### 2. [Training the model](InfoGraph.ipynb#L7)\n",
    "#### 3. [Evaluating the model](InfoGraph.ipynb#L8)"
   ],
   "metadata": {
    "collapsed": false
   }
  },
  {
   "cell_type": "markdown",
   "source": [
    "## 1. Preprocessing Data and Loading Configuration \n",
    "#### First, we load the configuration from yml file and the dataset. \n",
    "#### For easy usage, we conduct experiments to search for the best parameter across three datasets and find the proper value of parameters such that the performance of implemented InfoGraph is similar to the value reported in the paper."
   ],
   "metadata": {
    "collapsed": false,
    "pycharm": {
     "name": "#%% md\n"
    }
   }
  },
  {
   "cell_type": "code",
   "execution_count": 6,
   "outputs": [],
   "source": [
    "from torch_geometric.loader import DataLoader\n",
    "from src.methods.infograph import InfoGraph, Encoder\n",
    "from src.trainer import SimpleTrainer\n",
    "from src.evaluation import LogisticRegression\n",
    "from torch_geometric.datasets import TUDataset, Entities\n",
    "import os\n",
    "from torch_geometric.nn import GINConv\n",
    "from src.config import load_yaml\n",
    "import torch\n",
    "import numpy as np\n",
    "\n",
    "\n",
    "config = load_yaml('./configuration/infograph_mutag.yml')\n",
    "# config = load_yaml('./configuration/infograph_imdb_b.yml')\n",
    "# config = load_yaml('./configuration/infograph_imdb_m.yml')\n",
    "torch.manual_seed(config.torch_seed)\n",
    "np.random.seed(config.torch_seed)\n",
    "device = torch.device(\"cuda:{}\".format(config.gpu_idx) if torch.cuda.is_available() and config.use_cuda else \"cpu\")\n",
    "\n",
    "# -------------------- Data --------------------\n",
    "current_folder = os.path.abspath('')\n",
    "path = os.path.join(current_folder, config.dataset.root, config.dataset.name)\n",
    "if config.dataset.name in ['IMDB-B', 'IMDB-M', 'mutag', 'COLLAB', 'PROTEINS']:\n",
    "    # dataset = TUDataset(path, name=config.dataset.name).shuffle()\n",
    "    dataset = TUDataset(path, name=config.dataset.name)\n",
    "else:\n",
    "    raise NotImplementedError\n",
    "# dataset.x = torch.rand(dataset.y.shape[0], 100)\n",
    "data_loader = DataLoader(dataset, batch_size=config.dataset.batch_size)\n",
    "\n",
    "in_channels = max(dataset.num_features, 1)"
   ],
   "metadata": {
    "collapsed": false,
    "pycharm": {
     "name": "#%%\n",
     "is_executing": false
    },
    "ExecuteTime": {
     "end_time": "2023-10-21T19:54:09.272477400Z",
     "start_time": "2023-10-21T19:54:09.255915800Z"
    }
   }
  },
  {
   "cell_type": "markdown",
   "source": [
    "## 2. Training the Model\n",
    "#### In the second step, we first initialize the parameters of InfoGraph. The backbone of the encoder is Graph Isomorphism Network (GIN), while InfoGraph adopts the idea of Deep InfoMax as one major loss term. \n",
    "#### You may replace the encoder with the user-defined encoder. Please refer to the framework of encoder in the directory (./src/methods/infograph.py#L96). Keep in mind that the encoder consists of class initialization, forward function and get_embs() function."
   ],
   "metadata": {
    "collapsed": false,
    "pycharm": {
     "name": "#%% md\n"
    }
   }
  },
  {
   "cell_type": "code",
   "execution_count": 7,
   "outputs": [],
   "source": [
    "# ------------------- Method -----------------\n",
    "encoder = Encoder(in_channels=in_channels, hidden_channels=config.model.hidden_channels,\n",
    "                  num_layers=config.model.n_layers, GNN=GINConv)\n",
    "method = InfoGraph(encoder=encoder, hidden_channels=config.model.hidden_channels, num_layers=config.model.n_layers,\n",
    "                   prior=False)"
   ],
   "metadata": {
    "collapsed": false,
    "pycharm": {
     "name": "#%%\n",
     "is_executing": false
    },
    "ExecuteTime": {
     "end_time": "2023-10-21T19:54:12.443915800Z",
     "start_time": "2023-10-21T19:54:12.438717600Z"
    }
   }
  },
  {
   "cell_type": "markdown",
   "source": [
    "#### We train the model by calling trainer.train() function."
   ],
   "metadata": {
    "collapsed": false
   }
  },
  {
   "cell_type": "code",
   "execution_count": 8,
   "outputs": [
    {
     "name": "stdout",
     "output_type": "stream",
     "text": [
      "Epoch 0: loss: 39.8438, time: 2.1058s\n",
      "Epoch 1: loss: 29.4095, time: 0.1577s\n",
      "Epoch 2: loss: 21.1209, time: 0.1425s\n",
      "Epoch 3: loss: 15.9829, time: 0.1421s\n",
      "Epoch 4: loss: 12.7194, time: 0.1593s\n",
      "Epoch 5: loss: 12.2764, time: 0.1471s\n",
      "Epoch 6: loss: 10.2990, time: 0.1360s\n",
      "Epoch 7: loss: 8.8425, time: 0.1434s\n",
      "Epoch 8: loss: 7.1493, time: 0.1591s\n",
      "Epoch 9: loss: 6.6873, time: 0.1419s\n",
      "Epoch 10: loss: 5.6728, time: 0.1572s\n",
      "Epoch 11: loss: 4.7578, time: 0.1419s\n",
      "Epoch 12: loss: 4.6112, time: 0.1423s\n",
      "Epoch 13: loss: 3.9639, time: 0.1544s\n",
      "Epoch 14: loss: 3.6259, time: 0.1362s\n",
      "Epoch 15: loss: 3.2037, time: 0.1424s\n",
      "Epoch 16: loss: 3.2865, time: 0.1416s\n",
      "Epoch 17: loss: 3.3542, time: 0.1516s\n",
      "Epoch 18: loss: 3.1791, time: 0.1421s\n",
      "Epoch 19: loss: 2.2982, time: 0.1427s\n"
     ]
    }
   ],
   "source": [
    "trainer = SimpleTrainer(method=method, data_loader=data_loader, device=device, n_epochs=config.optim.max_epoch)\n",
    "trainer.train()"
   ],
   "metadata": {
    "collapsed": false,
    "pycharm": {
     "name": "#%%\n",
     "is_executing": false
    },
    "ExecuteTime": {
     "end_time": "2023-10-21T19:54:20.347461700Z",
     "start_time": "2023-10-21T19:54:15.059680200Z"
    }
   }
  },
  {
   "cell_type": "markdown",
   "source": [
    "## 3. Evaluating the performance of InfoGraph\n",
    "#### In the last step, we evaluate the performance of InfoGraph. We first get the embedding of by calling method.get_embs() function and then we use logistic regression to evaluate its performance. The more choice of classifier could be found in the directory (./src/evaluation/classifier.py), including svm, randomforest, etc. Besides, other evaluation methods in unsupervised setting could be found in the directory (./src/evaluation/cluster.py or ./src/evaluation/sim_search.py), including kmean method or similarity search."
    "#### In the last step, we evaluate the performance of InfoGraph. We first get the embedding by calling method.get_embs() function and then use logistic regression to evaluate its performance. \n",
    "#### The more choice of classifiers can be found in [classifier.py](https://github.com/IDEA-ISAIL/ssl/edit/molecure/src/evaluation/classifier.py), including SVM, RandomForest, etc. \n",
    "#### Besides, other evaluation methods in an unsupervised setting could be found in [cluster.py](https://github.com/IDEA-ISAIL/ssl/edit/molecure/src/evaluation/cluster.py) or [sim_search.py](https://github.com/IDEA-ISAIL/ssl/edit/molecure/src/evaluation/sim_search.py), including K-means method or similarity search."
   ],
   "metadata": {
    "collapsed": false
   }
  },
  {
   "cell_type": "code",
   "execution_count": 9,
   "outputs": [
    {
     "name": "stderr",
     "output_type": "stream",
     "text": [
      "C:\\Users\\zheng\\anaconda3\\envs\\torch-gpu\\Lib\\site-packages\\torch_geometric\\data\\in_memory_dataset.py:157: UserWarning: It is not recommended to directly access the internal storage format `data` of an 'InMemoryDataset'. The data of the dataset is already cached, so any modifications to `data` will not be reflected when accessing its elements. Clearing the cache now by removing all elements in `dataset._data_list`. If you are absolutely certain what you are doing, access the internal storage via `InMemoryDataset._data` instead to suppress this warning. Alternatively, you can access stacked individual attributes of every graph via `dataset.{attr_name}`.\n",
      "  warnings.warn(msg)\n"
     ]
    },
    {
     "name": "stdout",
     "output_type": "stream",
     "text": [
      "Evaluate node classification results\n",
      "** Val: 87.8070 (5.7418) | Test: 87.8070 (5.7418) **\n"
     ]
    }
   ],
   "source": [
    "# ------------------ Evaluator -------------------\n",
    "method.eval()\n",
    "data_pyg = dataset.data.to(method.device)\n",
    "y, embs = method.get_embs(data_loader)\n",
    "\n",
    "data_pyg.x = embs\n",
    "lg = LogisticRegression(lr=config.classifier.base_lr, weight_decay=config.classifier.weight_decay,\n",
    "                        max_iter=config.classifier.max_epoch, n_run=1, device=device)\n",
    "lg(embs=embs, dataset=data_pyg)"
   ],
   "metadata": {
    "collapsed": false,
    "pycharm": {
     "name": "#%%\n",
     "is_executing": false
    },
    "ExecuteTime": {
     "end_time": "2023-10-21T19:54:24.807636100Z",
     "start_time": "2023-10-21T19:54:23.650700200Z"
    }
   }
  }
 ],
 "metadata": {
  "kernelspec": {
   "name": "python3",
   "language": "python",
   "display_name": "Python 3"
  },
  "language_info": {
   "codemirror_mode": {
    "name": "ipython",
    "version": 3
   },
   "file_extension": ".py",
   "mimetype": "text/x-python",
   "name": "python",
   "nbconvert_exporter": "python",
   "pygments_lexer": "ipython3",
   "version": "3.6.8"
  },
  "pycharm": {
   "stem_cell": {
    "cell_type": "raw",
    "source": [],
    "metadata": {
     "collapsed": false
    }
   }
  }
 },
 "nbformat": 4,
 "nbformat_minor": 2
}
